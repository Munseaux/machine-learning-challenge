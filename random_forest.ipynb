{
 "cells": [
  {
   "cell_type": "code",
   "execution_count": 18,
   "source": [
    "# Update sklearn to prevent version mismatches\r\n",
    "!pip install sklearn --upgrade"
   ],
   "outputs": [
    {
     "output_type": "stream",
     "name": "stdout",
     "text": [
      "Requirement already up-to-date: sklearn in c:\\users\\lmuns\\anaconda3\\envs\\pythondata\\lib\\site-packages (0.0)\n",
      "Requirement already satisfied, skipping upgrade: scikit-learn in c:\\users\\lmuns\\anaconda3\\envs\\pythondata\\lib\\site-packages (from sklearn) (0.24.2)\n",
      "Requirement already satisfied, skipping upgrade: numpy>=1.13.3 in c:\\users\\lmuns\\anaconda3\\envs\\pythondata\\lib\\site-packages (from scikit-learn->sklearn) (1.18.5)\n",
      "Requirement already satisfied, skipping upgrade: scipy>=0.19.1 in c:\\users\\lmuns\\anaconda3\\envs\\pythondata\\lib\\site-packages (from scikit-learn->sklearn) (1.5.0)\n",
      "Requirement already satisfied, skipping upgrade: joblib>=0.11 in c:\\users\\lmuns\\anaconda3\\envs\\pythondata\\lib\\site-packages (from scikit-learn->sklearn) (1.0.1)\n",
      "Requirement already satisfied, skipping upgrade: threadpoolctl>=2.0.0 in c:\\users\\lmuns\\anaconda3\\envs\\pythondata\\lib\\site-packages (from scikit-learn->sklearn) (2.2.0)\n"
     ]
    }
   ],
   "metadata": {}
  },
  {
   "cell_type": "code",
   "execution_count": 19,
   "source": [
    "# install joblib. This will be used to save your model. \r\n",
    "# Restart your kernel after installing \r\n",
    "!pip install joblib"
   ],
   "outputs": [
    {
     "output_type": "stream",
     "name": "stdout",
     "text": [
      "Requirement already satisfied: joblib in c:\\users\\lmuns\\anaconda3\\envs\\pythondata\\lib\\site-packages (1.0.1)\n"
     ]
    }
   ],
   "metadata": {}
  },
  {
   "cell_type": "code",
   "execution_count": 20,
   "source": [
    "import pandas as pd\r\n",
    "from sklearn import tree"
   ],
   "outputs": [],
   "metadata": {}
  },
  {
   "cell_type": "markdown",
   "source": [
    "# Read the CSV and Perform Basic Data Cleaning"
   ],
   "metadata": {}
  },
  {
   "cell_type": "code",
   "execution_count": 21,
   "source": [
    "df = pd.read_csv(\"exoplanet_data.csv\")\r\n",
    "# Drop the null columns where all values are null\r\n",
    "df = df.dropna(axis='columns', how='all')\r\n",
    "# Drop the null rows\r\n",
    "df = df.dropna()\r\n",
    "df.head()\r\n",
    "df[\"koi_disposition\"].unique()"
   ],
   "outputs": [
    {
     "output_type": "execute_result",
     "data": {
      "text/plain": [
       "array(['CONFIRMED', 'FALSE POSITIVE', 'CANDIDATE'], dtype=object)"
      ]
     },
     "metadata": {},
     "execution_count": 21
    }
   ],
   "metadata": {}
  },
  {
   "cell_type": "markdown",
   "source": [
    "# Select your features (columns)"
   ],
   "metadata": {}
  },
  {
   "cell_type": "code",
   "execution_count": 22,
   "source": [
    "# Set features. This will also be used as your x values.\r\n",
    "target = df[\"koi_disposition\"]\r\n",
    "target_names = [\"CONFIRMED\", \"FALSE POSITIVE\"]"
   ],
   "outputs": [],
   "metadata": {}
  },
  {
   "cell_type": "markdown",
   "source": [
    "# Create a Train Test Split\n",
    "\n",
    "Use `koi_disposition` for the y values"
   ],
   "metadata": {}
  },
  {
   "cell_type": "code",
   "execution_count": 23,
   "source": [
    "data = df.drop(\"koi_disposition\", axis=1)\r\n",
    "feature_names = data.columns\r\n",
    "data.head()"
   ],
   "outputs": [
    {
     "output_type": "execute_result",
     "data": {
      "text/plain": [
       "   koi_fpflag_nt  koi_fpflag_ss  koi_fpflag_co  koi_fpflag_ec  koi_period  \\\n",
       "0              0              0              0              0   54.418383   \n",
       "1              0              1              0              0   19.899140   \n",
       "2              0              1              0              0    1.736952   \n",
       "3              0              0              0              0    2.525592   \n",
       "4              0              0              0              0    4.134435   \n",
       "\n",
       "   koi_period_err1  koi_period_err2  koi_time0bk  koi_time0bk_err1  \\\n",
       "0     2.479000e-04    -2.479000e-04   162.513840          0.003520   \n",
       "1     1.490000e-05    -1.490000e-05   175.850252          0.000581   \n",
       "2     2.630000e-07    -2.630000e-07   170.307565          0.000115   \n",
       "3     3.760000e-06    -3.760000e-06   171.595550          0.001130   \n",
       "4     1.050000e-05    -1.050000e-05   172.979370          0.001900   \n",
       "\n",
       "   koi_time0bk_err2  ...  koi_steff_err2  koi_slogg  koi_slogg_err1  \\\n",
       "0         -0.003520  ...             -81      4.467           0.064   \n",
       "1         -0.000581  ...            -176      4.544           0.044   \n",
       "2         -0.000115  ...            -174      4.564           0.053   \n",
       "3         -0.001130  ...            -211      4.438           0.070   \n",
       "4         -0.001900  ...            -232      4.486           0.054   \n",
       "\n",
       "   koi_slogg_err2  koi_srad  koi_srad_err1  koi_srad_err2         ra  \\\n",
       "0          -0.096     0.927          0.105         -0.061  291.93423   \n",
       "1          -0.176     0.868          0.233         -0.078  297.00482   \n",
       "2          -0.168     0.791          0.201         -0.067  285.53461   \n",
       "3          -0.210     1.046          0.334         -0.133  288.75488   \n",
       "4          -0.229     0.972          0.315         -0.105  296.28613   \n",
       "\n",
       "         dec  koi_kepmag  \n",
       "0  48.141651      15.347  \n",
       "1  48.134129      15.436  \n",
       "2  48.285210      15.597  \n",
       "3  48.226200      15.509  \n",
       "4  48.224670      15.714  \n",
       "\n",
       "[5 rows x 40 columns]"
      ],
      "text/html": [
       "<div>\n",
       "<style scoped>\n",
       "    .dataframe tbody tr th:only-of-type {\n",
       "        vertical-align: middle;\n",
       "    }\n",
       "\n",
       "    .dataframe tbody tr th {\n",
       "        vertical-align: top;\n",
       "    }\n",
       "\n",
       "    .dataframe thead th {\n",
       "        text-align: right;\n",
       "    }\n",
       "</style>\n",
       "<table border=\"1\" class=\"dataframe\">\n",
       "  <thead>\n",
       "    <tr style=\"text-align: right;\">\n",
       "      <th></th>\n",
       "      <th>koi_fpflag_nt</th>\n",
       "      <th>koi_fpflag_ss</th>\n",
       "      <th>koi_fpflag_co</th>\n",
       "      <th>koi_fpflag_ec</th>\n",
       "      <th>koi_period</th>\n",
       "      <th>koi_period_err1</th>\n",
       "      <th>koi_period_err2</th>\n",
       "      <th>koi_time0bk</th>\n",
       "      <th>koi_time0bk_err1</th>\n",
       "      <th>koi_time0bk_err2</th>\n",
       "      <th>...</th>\n",
       "      <th>koi_steff_err2</th>\n",
       "      <th>koi_slogg</th>\n",
       "      <th>koi_slogg_err1</th>\n",
       "      <th>koi_slogg_err2</th>\n",
       "      <th>koi_srad</th>\n",
       "      <th>koi_srad_err1</th>\n",
       "      <th>koi_srad_err2</th>\n",
       "      <th>ra</th>\n",
       "      <th>dec</th>\n",
       "      <th>koi_kepmag</th>\n",
       "    </tr>\n",
       "  </thead>\n",
       "  <tbody>\n",
       "    <tr>\n",
       "      <th>0</th>\n",
       "      <td>0</td>\n",
       "      <td>0</td>\n",
       "      <td>0</td>\n",
       "      <td>0</td>\n",
       "      <td>54.418383</td>\n",
       "      <td>2.479000e-04</td>\n",
       "      <td>-2.479000e-04</td>\n",
       "      <td>162.513840</td>\n",
       "      <td>0.003520</td>\n",
       "      <td>-0.003520</td>\n",
       "      <td>...</td>\n",
       "      <td>-81</td>\n",
       "      <td>4.467</td>\n",
       "      <td>0.064</td>\n",
       "      <td>-0.096</td>\n",
       "      <td>0.927</td>\n",
       "      <td>0.105</td>\n",
       "      <td>-0.061</td>\n",
       "      <td>291.93423</td>\n",
       "      <td>48.141651</td>\n",
       "      <td>15.347</td>\n",
       "    </tr>\n",
       "    <tr>\n",
       "      <th>1</th>\n",
       "      <td>0</td>\n",
       "      <td>1</td>\n",
       "      <td>0</td>\n",
       "      <td>0</td>\n",
       "      <td>19.899140</td>\n",
       "      <td>1.490000e-05</td>\n",
       "      <td>-1.490000e-05</td>\n",
       "      <td>175.850252</td>\n",
       "      <td>0.000581</td>\n",
       "      <td>-0.000581</td>\n",
       "      <td>...</td>\n",
       "      <td>-176</td>\n",
       "      <td>4.544</td>\n",
       "      <td>0.044</td>\n",
       "      <td>-0.176</td>\n",
       "      <td>0.868</td>\n",
       "      <td>0.233</td>\n",
       "      <td>-0.078</td>\n",
       "      <td>297.00482</td>\n",
       "      <td>48.134129</td>\n",
       "      <td>15.436</td>\n",
       "    </tr>\n",
       "    <tr>\n",
       "      <th>2</th>\n",
       "      <td>0</td>\n",
       "      <td>1</td>\n",
       "      <td>0</td>\n",
       "      <td>0</td>\n",
       "      <td>1.736952</td>\n",
       "      <td>2.630000e-07</td>\n",
       "      <td>-2.630000e-07</td>\n",
       "      <td>170.307565</td>\n",
       "      <td>0.000115</td>\n",
       "      <td>-0.000115</td>\n",
       "      <td>...</td>\n",
       "      <td>-174</td>\n",
       "      <td>4.564</td>\n",
       "      <td>0.053</td>\n",
       "      <td>-0.168</td>\n",
       "      <td>0.791</td>\n",
       "      <td>0.201</td>\n",
       "      <td>-0.067</td>\n",
       "      <td>285.53461</td>\n",
       "      <td>48.285210</td>\n",
       "      <td>15.597</td>\n",
       "    </tr>\n",
       "    <tr>\n",
       "      <th>3</th>\n",
       "      <td>0</td>\n",
       "      <td>0</td>\n",
       "      <td>0</td>\n",
       "      <td>0</td>\n",
       "      <td>2.525592</td>\n",
       "      <td>3.760000e-06</td>\n",
       "      <td>-3.760000e-06</td>\n",
       "      <td>171.595550</td>\n",
       "      <td>0.001130</td>\n",
       "      <td>-0.001130</td>\n",
       "      <td>...</td>\n",
       "      <td>-211</td>\n",
       "      <td>4.438</td>\n",
       "      <td>0.070</td>\n",
       "      <td>-0.210</td>\n",
       "      <td>1.046</td>\n",
       "      <td>0.334</td>\n",
       "      <td>-0.133</td>\n",
       "      <td>288.75488</td>\n",
       "      <td>48.226200</td>\n",
       "      <td>15.509</td>\n",
       "    </tr>\n",
       "    <tr>\n",
       "      <th>4</th>\n",
       "      <td>0</td>\n",
       "      <td>0</td>\n",
       "      <td>0</td>\n",
       "      <td>0</td>\n",
       "      <td>4.134435</td>\n",
       "      <td>1.050000e-05</td>\n",
       "      <td>-1.050000e-05</td>\n",
       "      <td>172.979370</td>\n",
       "      <td>0.001900</td>\n",
       "      <td>-0.001900</td>\n",
       "      <td>...</td>\n",
       "      <td>-232</td>\n",
       "      <td>4.486</td>\n",
       "      <td>0.054</td>\n",
       "      <td>-0.229</td>\n",
       "      <td>0.972</td>\n",
       "      <td>0.315</td>\n",
       "      <td>-0.105</td>\n",
       "      <td>296.28613</td>\n",
       "      <td>48.224670</td>\n",
       "      <td>15.714</td>\n",
       "    </tr>\n",
       "  </tbody>\n",
       "</table>\n",
       "<p>5 rows × 40 columns</p>\n",
       "</div>"
      ]
     },
     "metadata": {},
     "execution_count": 23
    }
   ],
   "metadata": {}
  },
  {
   "cell_type": "code",
   "execution_count": 24,
   "source": [
    "from sklearn.model_selection import train_test_split\r\n",
    "X_train, X_test, y_train, y_test = train_test_split(data, target, random_state=42)"
   ],
   "outputs": [],
   "metadata": {}
  },
  {
   "cell_type": "code",
   "execution_count": 25,
   "source": [
    "from sklearn.preprocessing import MinMaxScaler\r\n",
    "\r\n",
    "X_scaler = MinMaxScaler().fit(X_train)\r\n",
    "X_train_scaled = X_scaler.transform(X_train)\r\n",
    "X_test_scaled = X_scaler.transform(X_test)"
   ],
   "outputs": [],
   "metadata": {}
  },
  {
   "cell_type": "code",
   "execution_count": 26,
   "source": [
    "from sklearn.ensemble import RandomForestClassifier\r\n",
    "rf = RandomForestClassifier(n_estimators=500)\r\n",
    "rf = rf.fit(X_train_scaled, y_train)\r\n",
    "rf.score(X_test_scaled, y_test)"
   ],
   "outputs": [
    {
     "output_type": "execute_result",
     "data": {
      "text/plain": [
       "0.9010297482837528"
      ]
     },
     "metadata": {},
     "execution_count": 26
    }
   ],
   "metadata": {}
  },
  {
   "cell_type": "code",
   "execution_count": 27,
   "source": [
    "sorted(zip(rf.feature_importances_, feature_names), reverse=True)"
   ],
   "outputs": [
    {
     "output_type": "execute_result",
     "data": {
      "text/plain": [
       "[(0.10588602769308006, 'koi_fpflag_co'),\n",
       " (0.10033247958462452, 'koi_fpflag_nt'),\n",
       " (0.06513072145964366, 'koi_fpflag_ss'),\n",
       " (0.05607152798496493, 'koi_model_snr'),\n",
       " (0.05035881380161093, 'koi_prad'),\n",
       " (0.035318114601687774, 'koi_fpflag_ec'),\n",
       " (0.03469482011895136, 'koi_duration_err2'),\n",
       " (0.03376482910923937, 'koi_steff_err1'),\n",
       " (0.03313055297218095, 'koi_duration_err1'),\n",
       " (0.03142081931246701, 'koi_prad_err1'),\n",
       " (0.029904862524597925, 'koi_steff_err2'),\n",
       " (0.02973630524304536, 'koi_prad_err2'),\n",
       " (0.024197266748490993, 'koi_time0bk_err1'),\n",
       " (0.022653832124900925, 'koi_period'),\n",
       " (0.02189275600318998, 'koi_duration'),\n",
       " (0.021146988283930745, 'koi_time0bk_err2'),\n",
       " (0.02006922468823371, 'koi_depth'),\n",
       " (0.019281264218810393, 'koi_period_err2'),\n",
       " (0.018895629529095733, 'koi_period_err1'),\n",
       " (0.018434746465498943, 'koi_impact'),\n",
       " (0.018091558488394083, 'koi_insol_err1'),\n",
       " (0.01566596284426639, 'koi_teq'),\n",
       " (0.014416948056707327, 'koi_insol'),\n",
       " (0.013418560824586687, 'koi_time0bk'),\n",
       " (0.013330649717834452, 'koi_depth_err2'),\n",
       " (0.013100756506102365, 'koi_depth_err1'),\n",
       " (0.012771833333536797, 'koi_insol_err2'),\n",
       " (0.012411770202859213, 'ra'),\n",
       " (0.011489132045984866, 'koi_srad_err1'),\n",
       " (0.011364576649262175, 'dec'),\n",
       " (0.011220859936822272, 'koi_impact_err2'),\n",
       " (0.011034951974354286, 'koi_impact_err1'),\n",
       " (0.010480238757648154, 'koi_slogg_err2'),\n",
       " (0.010372059699810568, 'koi_kepmag'),\n",
       " (0.009918504205530043, 'koi_steff'),\n",
       " (0.009023136226183498, 'koi_slogg'),\n",
       " (0.008989023603968834, 'koi_srad'),\n",
       " (0.008921151257037227, 'koi_srad_err2'),\n",
       " (0.008667222668881728, 'koi_slogg_err1'),\n",
       " (0.0029895205319837984, 'koi_tce_plnt_num')]"
      ]
     },
     "metadata": {},
     "execution_count": 27
    }
   ],
   "metadata": {}
  }
 ],
 "metadata": {
  "kernel_info": {
   "name": "dev"
  },
  "kernelspec": {
   "name": "python3",
   "display_name": "Python 3.6.13 64-bit ('PythonAdv': conda)"
  },
  "language_info": {
   "codemirror_mode": {
    "name": "ipython",
    "version": 3
   },
   "file_extension": ".py",
   "mimetype": "text/x-python",
   "name": "python",
   "nbconvert_exporter": "python",
   "pygments_lexer": "ipython3",
   "version": "3.6.13"
  },
  "nteract": {
   "version": "0.12.3"
  },
  "interpreter": {
   "hash": "19e604361af181d0efed1906379b6d4f58cb276063cefdc694e07c9c982c8c5e"
  }
 },
 "nbformat": 4,
 "nbformat_minor": 4
}