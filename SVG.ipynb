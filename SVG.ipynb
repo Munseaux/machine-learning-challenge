{
 "cells": [
  {
   "cell_type": "code",
   "execution_count": 1,
   "source": [
    "# Update sklearn to prevent version mismatches\r\n",
    "!pip install sklearn --upgrade"
   ],
   "outputs": [
    {
     "output_type": "stream",
     "name": "stdout",
     "text": [
      "Requirement already up-to-date: sklearn in c:\\users\\lmuns\\anaconda3\\envs\\pythondata\\lib\\site-packages (0.0)\n",
      "Requirement already satisfied, skipping upgrade: scikit-learn in c:\\users\\lmuns\\anaconda3\\envs\\pythondata\\lib\\site-packages (from sklearn) (0.24.2)\n",
      "Requirement already satisfied, skipping upgrade: scipy>=0.19.1 in c:\\users\\lmuns\\anaconda3\\envs\\pythondata\\lib\\site-packages (from scikit-learn->sklearn) (1.5.0)\n",
      "Requirement already satisfied, skipping upgrade: numpy>=1.13.3 in c:\\users\\lmuns\\anaconda3\\envs\\pythondata\\lib\\site-packages (from scikit-learn->sklearn) (1.18.5)\n",
      "Requirement already satisfied, skipping upgrade: threadpoolctl>=2.0.0 in c:\\users\\lmuns\\anaconda3\\envs\\pythondata\\lib\\site-packages (from scikit-learn->sklearn) (2.2.0)\n",
      "Requirement already satisfied, skipping upgrade: joblib>=0.11 in c:\\users\\lmuns\\anaconda3\\envs\\pythondata\\lib\\site-packages (from scikit-learn->sklearn) (1.0.1)\n"
     ]
    }
   ],
   "metadata": {}
  },
  {
   "cell_type": "code",
   "execution_count": 2,
   "source": [
    "# install joblib. This will be used to save your model. \r\n",
    "# Restart your kernel after installing \r\n",
    "!pip install joblib"
   ],
   "outputs": [
    {
     "output_type": "stream",
     "name": "stdout",
     "text": [
      "Requirement already satisfied: joblib in c:\\users\\lmuns\\anaconda3\\envs\\pythondata\\lib\\site-packages (1.0.1)\n"
     ]
    }
   ],
   "metadata": {}
  },
  {
   "cell_type": "code",
   "execution_count": 3,
   "source": [
    "import pandas as pd\r\n",
    "from sklearn.preprocessing import LabelEncoder, MinMaxScaler\r\n",
    "from tensorflow.keras.utils import to_categorical\r\n",
    "from sklearn.model_selection import train_test_split\r\n",
    "import tensorflow\r\n",
    "from numpy.random import seed"
   ],
   "outputs": [],
   "metadata": {}
  },
  {
   "cell_type": "markdown",
   "source": [
    "# Read the CSV and Perform Basic Data Cleaning"
   ],
   "metadata": {}
  },
  {
   "cell_type": "code",
   "execution_count": 4,
   "source": [
    "df = pd.read_csv(\"exoplanet_data.csv\")\r\n",
    "# Drop the null columns where all values are null\r\n",
    "df = df.dropna(axis='columns', how='all')\r\n",
    "# Drop the null rows\r\n",
    "df = df.dropna()\r\n",
    "df.head()"
   ],
   "outputs": [
    {
     "output_type": "execute_result",
     "data": {
      "text/plain": [
       "  koi_disposition  koi_fpflag_nt  koi_fpflag_ss  koi_fpflag_co  koi_fpflag_ec  \\\n",
       "0       CONFIRMED              0              0              0              0   \n",
       "1  FALSE POSITIVE              0              1              0              0   \n",
       "2  FALSE POSITIVE              0              1              0              0   \n",
       "3       CONFIRMED              0              0              0              0   \n",
       "4       CONFIRMED              0              0              0              0   \n",
       "\n",
       "   koi_period  koi_period_err1  koi_period_err2  koi_time0bk  \\\n",
       "0   54.418383     2.479000e-04    -2.479000e-04   162.513840   \n",
       "1   19.899140     1.490000e-05    -1.490000e-05   175.850252   \n",
       "2    1.736952     2.630000e-07    -2.630000e-07   170.307565   \n",
       "3    2.525592     3.760000e-06    -3.760000e-06   171.595550   \n",
       "4    4.134435     1.050000e-05    -1.050000e-05   172.979370   \n",
       "\n",
       "   koi_time0bk_err1  ...  koi_steff_err2  koi_slogg  koi_slogg_err1  \\\n",
       "0          0.003520  ...             -81      4.467           0.064   \n",
       "1          0.000581  ...            -176      4.544           0.044   \n",
       "2          0.000115  ...            -174      4.564           0.053   \n",
       "3          0.001130  ...            -211      4.438           0.070   \n",
       "4          0.001900  ...            -232      4.486           0.054   \n",
       "\n",
       "   koi_slogg_err2  koi_srad  koi_srad_err1  koi_srad_err2         ra  \\\n",
       "0          -0.096     0.927          0.105         -0.061  291.93423   \n",
       "1          -0.176     0.868          0.233         -0.078  297.00482   \n",
       "2          -0.168     0.791          0.201         -0.067  285.53461   \n",
       "3          -0.210     1.046          0.334         -0.133  288.75488   \n",
       "4          -0.229     0.972          0.315         -0.105  296.28613   \n",
       "\n",
       "         dec  koi_kepmag  \n",
       "0  48.141651      15.347  \n",
       "1  48.134129      15.436  \n",
       "2  48.285210      15.597  \n",
       "3  48.226200      15.509  \n",
       "4  48.224670      15.714  \n",
       "\n",
       "[5 rows x 41 columns]"
      ],
      "text/html": [
       "<div>\n",
       "<style scoped>\n",
       "    .dataframe tbody tr th:only-of-type {\n",
       "        vertical-align: middle;\n",
       "    }\n",
       "\n",
       "    .dataframe tbody tr th {\n",
       "        vertical-align: top;\n",
       "    }\n",
       "\n",
       "    .dataframe thead th {\n",
       "        text-align: right;\n",
       "    }\n",
       "</style>\n",
       "<table border=\"1\" class=\"dataframe\">\n",
       "  <thead>\n",
       "    <tr style=\"text-align: right;\">\n",
       "      <th></th>\n",
       "      <th>koi_disposition</th>\n",
       "      <th>koi_fpflag_nt</th>\n",
       "      <th>koi_fpflag_ss</th>\n",
       "      <th>koi_fpflag_co</th>\n",
       "      <th>koi_fpflag_ec</th>\n",
       "      <th>koi_period</th>\n",
       "      <th>koi_period_err1</th>\n",
       "      <th>koi_period_err2</th>\n",
       "      <th>koi_time0bk</th>\n",
       "      <th>koi_time0bk_err1</th>\n",
       "      <th>...</th>\n",
       "      <th>koi_steff_err2</th>\n",
       "      <th>koi_slogg</th>\n",
       "      <th>koi_slogg_err1</th>\n",
       "      <th>koi_slogg_err2</th>\n",
       "      <th>koi_srad</th>\n",
       "      <th>koi_srad_err1</th>\n",
       "      <th>koi_srad_err2</th>\n",
       "      <th>ra</th>\n",
       "      <th>dec</th>\n",
       "      <th>koi_kepmag</th>\n",
       "    </tr>\n",
       "  </thead>\n",
       "  <tbody>\n",
       "    <tr>\n",
       "      <th>0</th>\n",
       "      <td>CONFIRMED</td>\n",
       "      <td>0</td>\n",
       "      <td>0</td>\n",
       "      <td>0</td>\n",
       "      <td>0</td>\n",
       "      <td>54.418383</td>\n",
       "      <td>2.479000e-04</td>\n",
       "      <td>-2.479000e-04</td>\n",
       "      <td>162.513840</td>\n",
       "      <td>0.003520</td>\n",
       "      <td>...</td>\n",
       "      <td>-81</td>\n",
       "      <td>4.467</td>\n",
       "      <td>0.064</td>\n",
       "      <td>-0.096</td>\n",
       "      <td>0.927</td>\n",
       "      <td>0.105</td>\n",
       "      <td>-0.061</td>\n",
       "      <td>291.93423</td>\n",
       "      <td>48.141651</td>\n",
       "      <td>15.347</td>\n",
       "    </tr>\n",
       "    <tr>\n",
       "      <th>1</th>\n",
       "      <td>FALSE POSITIVE</td>\n",
       "      <td>0</td>\n",
       "      <td>1</td>\n",
       "      <td>0</td>\n",
       "      <td>0</td>\n",
       "      <td>19.899140</td>\n",
       "      <td>1.490000e-05</td>\n",
       "      <td>-1.490000e-05</td>\n",
       "      <td>175.850252</td>\n",
       "      <td>0.000581</td>\n",
       "      <td>...</td>\n",
       "      <td>-176</td>\n",
       "      <td>4.544</td>\n",
       "      <td>0.044</td>\n",
       "      <td>-0.176</td>\n",
       "      <td>0.868</td>\n",
       "      <td>0.233</td>\n",
       "      <td>-0.078</td>\n",
       "      <td>297.00482</td>\n",
       "      <td>48.134129</td>\n",
       "      <td>15.436</td>\n",
       "    </tr>\n",
       "    <tr>\n",
       "      <th>2</th>\n",
       "      <td>FALSE POSITIVE</td>\n",
       "      <td>0</td>\n",
       "      <td>1</td>\n",
       "      <td>0</td>\n",
       "      <td>0</td>\n",
       "      <td>1.736952</td>\n",
       "      <td>2.630000e-07</td>\n",
       "      <td>-2.630000e-07</td>\n",
       "      <td>170.307565</td>\n",
       "      <td>0.000115</td>\n",
       "      <td>...</td>\n",
       "      <td>-174</td>\n",
       "      <td>4.564</td>\n",
       "      <td>0.053</td>\n",
       "      <td>-0.168</td>\n",
       "      <td>0.791</td>\n",
       "      <td>0.201</td>\n",
       "      <td>-0.067</td>\n",
       "      <td>285.53461</td>\n",
       "      <td>48.285210</td>\n",
       "      <td>15.597</td>\n",
       "    </tr>\n",
       "    <tr>\n",
       "      <th>3</th>\n",
       "      <td>CONFIRMED</td>\n",
       "      <td>0</td>\n",
       "      <td>0</td>\n",
       "      <td>0</td>\n",
       "      <td>0</td>\n",
       "      <td>2.525592</td>\n",
       "      <td>3.760000e-06</td>\n",
       "      <td>-3.760000e-06</td>\n",
       "      <td>171.595550</td>\n",
       "      <td>0.001130</td>\n",
       "      <td>...</td>\n",
       "      <td>-211</td>\n",
       "      <td>4.438</td>\n",
       "      <td>0.070</td>\n",
       "      <td>-0.210</td>\n",
       "      <td>1.046</td>\n",
       "      <td>0.334</td>\n",
       "      <td>-0.133</td>\n",
       "      <td>288.75488</td>\n",
       "      <td>48.226200</td>\n",
       "      <td>15.509</td>\n",
       "    </tr>\n",
       "    <tr>\n",
       "      <th>4</th>\n",
       "      <td>CONFIRMED</td>\n",
       "      <td>0</td>\n",
       "      <td>0</td>\n",
       "      <td>0</td>\n",
       "      <td>0</td>\n",
       "      <td>4.134435</td>\n",
       "      <td>1.050000e-05</td>\n",
       "      <td>-1.050000e-05</td>\n",
       "      <td>172.979370</td>\n",
       "      <td>0.001900</td>\n",
       "      <td>...</td>\n",
       "      <td>-232</td>\n",
       "      <td>4.486</td>\n",
       "      <td>0.054</td>\n",
       "      <td>-0.229</td>\n",
       "      <td>0.972</td>\n",
       "      <td>0.315</td>\n",
       "      <td>-0.105</td>\n",
       "      <td>296.28613</td>\n",
       "      <td>48.224670</td>\n",
       "      <td>15.714</td>\n",
       "    </tr>\n",
       "  </tbody>\n",
       "</table>\n",
       "<p>5 rows × 41 columns</p>\n",
       "</div>"
      ]
     },
     "metadata": {},
     "execution_count": 4
    }
   ],
   "metadata": {}
  },
  {
   "cell_type": "markdown",
   "source": [
    "# Select your features (columns)"
   ],
   "metadata": {}
  },
  {
   "cell_type": "code",
   "execution_count": 5,
   "source": [
    "# Set features. This will also be used as your x values.\r\n",
    "target = df[\"koi_disposition\"]\r\n",
    "target_names = [\"CONFIRMED\", \"FALSE POSITIVE\"]\r\n",
    "data = df.drop(\"koi_disposition\", axis=1)\r\n",
    "#using the top X's from the random forest. \r\n",
    "feature_names = df[['koi_fpflag_co','koi_fpflag_nt', 'koi_fpflag_ss', 'koi_model_snr', 'koi_prad', 'koi_duration_err2', 'koi_duration_err1', 'koi_fpflag_ec', 'koi_prad_err2', 'koi_steff_err2', 'koi_prad_err1', 'koi_steff_err1', 'koi_time0bk_err1', 'koi_time0bk_err2', 'koi_period', 'koi_depth', 'koi_duration']]\r\n",
    "data.head()\r\n",
    "X = data\r\n",
    "y = target\r\n",
    "\r\n",
    "encoded_y = pd.get_dummies(df, columns=[\"koi_disposition\"])\r\n",
    "encoded_y = encoded_y[\"koi_disposition_CONFIRMED\"]\r\n",
    "encoded_y\r\n",
    "y = encoded_y\r\n",
    "print(X.shape, y.shape)"
   ],
   "outputs": [
    {
     "output_type": "stream",
     "name": "stdout",
     "text": [
      "(6991, 40) (6991,)\n"
     ]
    }
   ],
   "metadata": {}
  },
  {
   "cell_type": "markdown",
   "source": [
    "# Create a Train Test Split\n",
    "\n",
    "Use `koi_disposition` for the y values"
   ],
   "metadata": {}
  },
  {
   "cell_type": "code",
   "execution_count": 6,
   "source": [
    "X_train, X_test, y_train, y_test = train_test_split(\r\n",
    "    X, y, random_state=1)"
   ],
   "outputs": [],
   "metadata": {}
  },
  {
   "cell_type": "code",
   "execution_count": 7,
   "source": [
    "X_train.head()"
   ],
   "outputs": [
    {
     "output_type": "execute_result",
     "data": {
      "text/plain": [
       "      koi_fpflag_nt  koi_fpflag_ss  koi_fpflag_co  koi_fpflag_ec  koi_period  \\\n",
       "3563              0              0              0              0   10.548413   \n",
       "4099              0              0              0              0   24.754385   \n",
       "5460              0              0              0              0    1.057336   \n",
       "1091              0              0              0              0  201.118319   \n",
       "5999              0              0              0              0   91.649983   \n",
       "\n",
       "      koi_period_err1  koi_period_err2  koi_time0bk  koi_time0bk_err1  \\\n",
       "3563     5.470000e-05    -5.470000e-05   139.064020          0.004110   \n",
       "4099     1.365000e-04    -1.365000e-04   140.207320          0.004460   \n",
       "5460     1.230000e-07    -1.230000e-07   131.792007          0.000096   \n",
       "1091     1.461000e-03    -1.461000e-03   187.569860          0.005290   \n",
       "5999     3.181000e-03    -3.181000e-03   175.715600          0.028600   \n",
       "\n",
       "      koi_time0bk_err2  ...  koi_steff_err2  koi_slogg  koi_slogg_err1  \\\n",
       "3563         -0.004110  ...            -133      4.387           0.066   \n",
       "4099         -0.004460  ...            -144      4.519           0.078   \n",
       "5460         -0.000096  ...            -140      4.594           0.054   \n",
       "1091         -0.005290  ...            -112      4.447           0.072   \n",
       "5999         -0.028600  ...            -233      4.145           0.164   \n",
       "\n",
       "      koi_slogg_err2  koi_srad  koi_srad_err1  koi_srad_err2         ra  \\\n",
       "3563          -0.123     1.092          0.181         -0.097  298.09543   \n",
       "4099          -0.052     0.804          0.056         -0.076  295.73535   \n",
       "5460          -0.027     0.683          0.054         -0.060  292.18417   \n",
       "1091          -0.108     0.954          0.135         -0.083  283.11377   \n",
       "5999          -0.164     1.608          0.905         -0.383  294.93198   \n",
       "\n",
       "            dec  koi_kepmag  \n",
       "3563  44.737061      13.204  \n",
       "4099  42.576248      15.514  \n",
       "5460  49.310040      15.414  \n",
       "1091  48.131390      13.328  \n",
       "5999  39.812420      12.964  \n",
       "\n",
       "[5 rows x 40 columns]"
      ],
      "text/html": [
       "<div>\n",
       "<style scoped>\n",
       "    .dataframe tbody tr th:only-of-type {\n",
       "        vertical-align: middle;\n",
       "    }\n",
       "\n",
       "    .dataframe tbody tr th {\n",
       "        vertical-align: top;\n",
       "    }\n",
       "\n",
       "    .dataframe thead th {\n",
       "        text-align: right;\n",
       "    }\n",
       "</style>\n",
       "<table border=\"1\" class=\"dataframe\">\n",
       "  <thead>\n",
       "    <tr style=\"text-align: right;\">\n",
       "      <th></th>\n",
       "      <th>koi_fpflag_nt</th>\n",
       "      <th>koi_fpflag_ss</th>\n",
       "      <th>koi_fpflag_co</th>\n",
       "      <th>koi_fpflag_ec</th>\n",
       "      <th>koi_period</th>\n",
       "      <th>koi_period_err1</th>\n",
       "      <th>koi_period_err2</th>\n",
       "      <th>koi_time0bk</th>\n",
       "      <th>koi_time0bk_err1</th>\n",
       "      <th>koi_time0bk_err2</th>\n",
       "      <th>...</th>\n",
       "      <th>koi_steff_err2</th>\n",
       "      <th>koi_slogg</th>\n",
       "      <th>koi_slogg_err1</th>\n",
       "      <th>koi_slogg_err2</th>\n",
       "      <th>koi_srad</th>\n",
       "      <th>koi_srad_err1</th>\n",
       "      <th>koi_srad_err2</th>\n",
       "      <th>ra</th>\n",
       "      <th>dec</th>\n",
       "      <th>koi_kepmag</th>\n",
       "    </tr>\n",
       "  </thead>\n",
       "  <tbody>\n",
       "    <tr>\n",
       "      <th>3563</th>\n",
       "      <td>0</td>\n",
       "      <td>0</td>\n",
       "      <td>0</td>\n",
       "      <td>0</td>\n",
       "      <td>10.548413</td>\n",
       "      <td>5.470000e-05</td>\n",
       "      <td>-5.470000e-05</td>\n",
       "      <td>139.064020</td>\n",
       "      <td>0.004110</td>\n",
       "      <td>-0.004110</td>\n",
       "      <td>...</td>\n",
       "      <td>-133</td>\n",
       "      <td>4.387</td>\n",
       "      <td>0.066</td>\n",
       "      <td>-0.123</td>\n",
       "      <td>1.092</td>\n",
       "      <td>0.181</td>\n",
       "      <td>-0.097</td>\n",
       "      <td>298.09543</td>\n",
       "      <td>44.737061</td>\n",
       "      <td>13.204</td>\n",
       "    </tr>\n",
       "    <tr>\n",
       "      <th>4099</th>\n",
       "      <td>0</td>\n",
       "      <td>0</td>\n",
       "      <td>0</td>\n",
       "      <td>0</td>\n",
       "      <td>24.754385</td>\n",
       "      <td>1.365000e-04</td>\n",
       "      <td>-1.365000e-04</td>\n",
       "      <td>140.207320</td>\n",
       "      <td>0.004460</td>\n",
       "      <td>-0.004460</td>\n",
       "      <td>...</td>\n",
       "      <td>-144</td>\n",
       "      <td>4.519</td>\n",
       "      <td>0.078</td>\n",
       "      <td>-0.052</td>\n",
       "      <td>0.804</td>\n",
       "      <td>0.056</td>\n",
       "      <td>-0.076</td>\n",
       "      <td>295.73535</td>\n",
       "      <td>42.576248</td>\n",
       "      <td>15.514</td>\n",
       "    </tr>\n",
       "    <tr>\n",
       "      <th>5460</th>\n",
       "      <td>0</td>\n",
       "      <td>0</td>\n",
       "      <td>0</td>\n",
       "      <td>0</td>\n",
       "      <td>1.057336</td>\n",
       "      <td>1.230000e-07</td>\n",
       "      <td>-1.230000e-07</td>\n",
       "      <td>131.792007</td>\n",
       "      <td>0.000096</td>\n",
       "      <td>-0.000096</td>\n",
       "      <td>...</td>\n",
       "      <td>-140</td>\n",
       "      <td>4.594</td>\n",
       "      <td>0.054</td>\n",
       "      <td>-0.027</td>\n",
       "      <td>0.683</td>\n",
       "      <td>0.054</td>\n",
       "      <td>-0.060</td>\n",
       "      <td>292.18417</td>\n",
       "      <td>49.310040</td>\n",
       "      <td>15.414</td>\n",
       "    </tr>\n",
       "    <tr>\n",
       "      <th>1091</th>\n",
       "      <td>0</td>\n",
       "      <td>0</td>\n",
       "      <td>0</td>\n",
       "      <td>0</td>\n",
       "      <td>201.118319</td>\n",
       "      <td>1.461000e-03</td>\n",
       "      <td>-1.461000e-03</td>\n",
       "      <td>187.569860</td>\n",
       "      <td>0.005290</td>\n",
       "      <td>-0.005290</td>\n",
       "      <td>...</td>\n",
       "      <td>-112</td>\n",
       "      <td>4.447</td>\n",
       "      <td>0.072</td>\n",
       "      <td>-0.108</td>\n",
       "      <td>0.954</td>\n",
       "      <td>0.135</td>\n",
       "      <td>-0.083</td>\n",
       "      <td>283.11377</td>\n",
       "      <td>48.131390</td>\n",
       "      <td>13.328</td>\n",
       "    </tr>\n",
       "    <tr>\n",
       "      <th>5999</th>\n",
       "      <td>0</td>\n",
       "      <td>0</td>\n",
       "      <td>0</td>\n",
       "      <td>0</td>\n",
       "      <td>91.649983</td>\n",
       "      <td>3.181000e-03</td>\n",
       "      <td>-3.181000e-03</td>\n",
       "      <td>175.715600</td>\n",
       "      <td>0.028600</td>\n",
       "      <td>-0.028600</td>\n",
       "      <td>...</td>\n",
       "      <td>-233</td>\n",
       "      <td>4.145</td>\n",
       "      <td>0.164</td>\n",
       "      <td>-0.164</td>\n",
       "      <td>1.608</td>\n",
       "      <td>0.905</td>\n",
       "      <td>-0.383</td>\n",
       "      <td>294.93198</td>\n",
       "      <td>39.812420</td>\n",
       "      <td>12.964</td>\n",
       "    </tr>\n",
       "  </tbody>\n",
       "</table>\n",
       "<p>5 rows × 40 columns</p>\n",
       "</div>"
      ]
     },
     "metadata": {},
     "execution_count": 7
    }
   ],
   "metadata": {}
  },
  {
   "cell_type": "markdown",
   "source": [
    "# Pre-processing\r\n",
    "\r\n",
    "Scale the data using the MinMaxScaler and perform some feature selection"
   ],
   "metadata": {}
  },
  {
   "cell_type": "code",
   "execution_count": 8,
   "source": [
    "# Scale your data\r\n",
    "from sklearn.preprocessing import MinMaxScaler\r\n",
    "\r\n",
    "X_scaler = MinMaxScaler().fit(X_train)\r\n",
    "X_train_scaled = X_scaler.transform(X_train)\r\n",
    "X_test_scaled = X_scaler.transform(X_test)\r\n",
    "\r\n",
    "from tensorflow.keras.utils import to_categorical\r\n",
    "y_train_categorical = to_categorical(y_train)\r\n",
    "y_test_categorical = to_categorical(y_test)"
   ],
   "outputs": [],
   "metadata": {}
  },
  {
   "cell_type": "markdown",
   "source": [
    "# Train the Model\n",
    "\n"
   ],
   "metadata": {}
  },
  {
   "cell_type": "code",
   "execution_count": 9,
   "source": [
    "from sklearn.svm import SVC \r\n",
    "model = SVC(kernel='linear', gamma='auto', probability=False)\r\n",
    "model.fit(X_train_scaled, y_train)"
   ],
   "outputs": [
    {
     "output_type": "execute_result",
     "data": {
      "text/plain": [
       "SVC(gamma='auto', kernel='linear')"
      ]
     },
     "metadata": {},
     "execution_count": 9
    }
   ],
   "metadata": {}
  },
  {
   "cell_type": "code",
   "execution_count": 10,
   "source": [
    "print('Test Acc: %.3f' % model.score(X_test, y_test))"
   ],
   "outputs": [
    {
     "output_type": "stream",
     "name": "stdout",
     "text": [
      "Test Acc: 0.424\n"
     ]
    }
   ],
   "metadata": {}
  },
  {
   "cell_type": "code",
   "execution_count": 11,
   "source": [
    "from sklearn.metrics import classification_report\r\n",
    "predictions = model.predict(X_test)\r\n",
    "print(classification_report(y_test, predictions,\r\n",
    "                            target_names=target_names))"
   ],
   "outputs": [
    {
     "output_type": "stream",
     "name": "stdout",
     "text": [
      "                precision    recall  f1-score   support\n",
      "\n",
      "     CONFIRMED       0.96      0.24      0.39      1313\n",
      "FALSE POSITIVE       0.30      0.97      0.46       435\n",
      "\n",
      "      accuracy                           0.42      1748\n",
      "     macro avg       0.63      0.61      0.42      1748\n",
      "  weighted avg       0.80      0.42      0.40      1748\n",
      "\n"
     ]
    }
   ],
   "metadata": {}
  },
  {
   "cell_type": "markdown",
   "source": [
    "# Hyperparameter Tuning\n",
    "\n",
    "Use `GridSearchCV` to tune the model's parameters"
   ],
   "metadata": {}
  },
  {
   "cell_type": "code",
   "execution_count": 12,
   "source": [
    "# Create the GridSearchCV model\r\n",
    "from sklearn.model_selection import GridSearchCV\r\n",
    "param_grid = {'C': [1, 5, 10, 50],\r\n",
    "              'gamma': [0.0001, 0.0005, 0.001, 0.005]}\r\n",
    "grid = GridSearchCV(model, param_grid, verbose=3)"
   ],
   "outputs": [],
   "metadata": {}
  },
  {
   "cell_type": "code",
   "execution_count": 13,
   "source": [
    "# Train the model with GridSearch\r\n",
    "grid.fit(X_train_scaled, y_train)"
   ],
   "outputs": [
    {
     "output_type": "stream",
     "name": "stdout",
     "text": [
      "Fitting 5 folds for each of 16 candidates, totalling 80 fits\n",
      "[CV 1/5] END .................C=1, gamma=0.0001;, score=0.854 total time=   0.2s\n",
      "[CV 2/5] END .................C=1, gamma=0.0001;, score=0.857 total time=   0.2s\n",
      "[CV 3/5] END .................C=1, gamma=0.0001;, score=0.819 total time=   0.2s\n",
      "[CV 4/5] END .................C=1, gamma=0.0001;, score=0.819 total time=   0.2s\n",
      "[CV 5/5] END .................C=1, gamma=0.0001;, score=0.834 total time=   0.3s\n",
      "[CV 1/5] END .................C=1, gamma=0.0005;, score=0.854 total time=   0.2s\n",
      "[CV 2/5] END .................C=1, gamma=0.0005;, score=0.857 total time=   0.2s\n",
      "[CV 3/5] END .................C=1, gamma=0.0005;, score=0.819 total time=   0.2s\n",
      "[CV 4/5] END .................C=1, gamma=0.0005;, score=0.819 total time=   0.2s\n",
      "[CV 5/5] END .................C=1, gamma=0.0005;, score=0.834 total time=   0.2s\n",
      "[CV 1/5] END ..................C=1, gamma=0.001;, score=0.854 total time=   0.2s\n",
      "[CV 2/5] END ..................C=1, gamma=0.001;, score=0.857 total time=   0.2s\n",
      "[CV 3/5] END ..................C=1, gamma=0.001;, score=0.819 total time=   0.2s\n",
      "[CV 4/5] END ..................C=1, gamma=0.001;, score=0.819 total time=   0.2s\n",
      "[CV 5/5] END ..................C=1, gamma=0.001;, score=0.834 total time=   0.2s\n",
      "[CV 1/5] END ..................C=1, gamma=0.005;, score=0.854 total time=   0.2s\n",
      "[CV 2/5] END ..................C=1, gamma=0.005;, score=0.857 total time=   0.2s\n",
      "[CV 3/5] END ..................C=1, gamma=0.005;, score=0.819 total time=   0.2s\n",
      "[CV 4/5] END ..................C=1, gamma=0.005;, score=0.819 total time=   0.2s\n",
      "[CV 5/5] END ..................C=1, gamma=0.005;, score=0.834 total time=   0.2s\n",
      "[CV 1/5] END .................C=5, gamma=0.0001;, score=0.869 total time=   0.2s\n",
      "[CV 2/5] END .................C=5, gamma=0.0001;, score=0.885 total time=   0.2s\n",
      "[CV 3/5] END .................C=5, gamma=0.0001;, score=0.844 total time=   0.2s\n",
      "[CV 4/5] END .................C=5, gamma=0.0001;, score=0.847 total time=   0.2s\n",
      "[CV 5/5] END .................C=5, gamma=0.0001;, score=0.845 total time=   0.2s\n",
      "[CV 1/5] END .................C=5, gamma=0.0005;, score=0.869 total time=   0.2s\n",
      "[CV 2/5] END .................C=5, gamma=0.0005;, score=0.885 total time=   0.2s\n",
      "[CV 3/5] END .................C=5, gamma=0.0005;, score=0.844 total time=   0.2s\n",
      "[CV 4/5] END .................C=5, gamma=0.0005;, score=0.847 total time=   0.2s\n",
      "[CV 5/5] END .................C=5, gamma=0.0005;, score=0.845 total time=   0.2s\n",
      "[CV 1/5] END ..................C=5, gamma=0.001;, score=0.869 total time=   0.2s\n",
      "[CV 2/5] END ..................C=5, gamma=0.001;, score=0.885 total time=   0.2s\n",
      "[CV 3/5] END ..................C=5, gamma=0.001;, score=0.844 total time=   0.2s\n",
      "[CV 4/5] END ..................C=5, gamma=0.001;, score=0.847 total time=   0.2s\n",
      "[CV 5/5] END ..................C=5, gamma=0.001;, score=0.845 total time=   0.2s\n",
      "[CV 1/5] END ..................C=5, gamma=0.005;, score=0.869 total time=   0.2s\n",
      "[CV 2/5] END ..................C=5, gamma=0.005;, score=0.885 total time=   0.2s\n",
      "[CV 3/5] END ..................C=5, gamma=0.005;, score=0.844 total time=   0.2s\n",
      "[CV 4/5] END ..................C=5, gamma=0.005;, score=0.847 total time=   0.2s\n",
      "[CV 5/5] END ..................C=5, gamma=0.005;, score=0.845 total time=   0.2s\n",
      "[CV 1/5] END ................C=10, gamma=0.0001;, score=0.880 total time=   0.2s\n",
      "[CV 2/5] END ................C=10, gamma=0.0001;, score=0.884 total time=   0.2s\n",
      "[CV 3/5] END ................C=10, gamma=0.0001;, score=0.849 total time=   0.2s\n",
      "[CV 4/5] END ................C=10, gamma=0.0001;, score=0.855 total time=   0.2s\n",
      "[CV 5/5] END ................C=10, gamma=0.0001;, score=0.850 total time=   0.2s\n",
      "[CV 1/5] END ................C=10, gamma=0.0005;, score=0.880 total time=   0.2s\n",
      "[CV 2/5] END ................C=10, gamma=0.0005;, score=0.884 total time=   0.2s\n",
      "[CV 3/5] END ................C=10, gamma=0.0005;, score=0.849 total time=   0.2s\n",
      "[CV 4/5] END ................C=10, gamma=0.0005;, score=0.855 total time=   0.2s\n",
      "[CV 5/5] END ................C=10, gamma=0.0005;, score=0.850 total time=   0.2s\n",
      "[CV 1/5] END .................C=10, gamma=0.001;, score=0.880 total time=   0.2s\n",
      "[CV 2/5] END .................C=10, gamma=0.001;, score=0.884 total time=   0.2s\n",
      "[CV 3/5] END .................C=10, gamma=0.001;, score=0.849 total time=   0.2s\n",
      "[CV 4/5] END .................C=10, gamma=0.001;, score=0.855 total time=   0.2s\n",
      "[CV 5/5] END .................C=10, gamma=0.001;, score=0.850 total time=   0.2s\n",
      "[CV 1/5] END .................C=10, gamma=0.005;, score=0.880 total time=   0.2s\n",
      "[CV 2/5] END .................C=10, gamma=0.005;, score=0.884 total time=   0.2s\n",
      "[CV 3/5] END .................C=10, gamma=0.005;, score=0.849 total time=   0.2s\n",
      "[CV 4/5] END .................C=10, gamma=0.005;, score=0.855 total time=   0.2s\n",
      "[CV 5/5] END .................C=10, gamma=0.005;, score=0.850 total time=   0.2s\n",
      "[CV 1/5] END ................C=50, gamma=0.0001;, score=0.885 total time=   0.2s\n",
      "[CV 2/5] END ................C=50, gamma=0.0001;, score=0.895 total time=   0.2s\n",
      "[CV 3/5] END ................C=50, gamma=0.0001;, score=0.865 total time=   0.2s\n",
      "[CV 4/5] END ................C=50, gamma=0.0001;, score=0.861 total time=   0.2s\n",
      "[CV 5/5] END ................C=50, gamma=0.0001;, score=0.865 total time=   0.2s\n",
      "[CV 1/5] END ................C=50, gamma=0.0005;, score=0.885 total time=   0.3s\n",
      "[CV 2/5] END ................C=50, gamma=0.0005;, score=0.895 total time=   0.2s\n",
      "[CV 3/5] END ................C=50, gamma=0.0005;, score=0.865 total time=   0.2s\n",
      "[CV 4/5] END ................C=50, gamma=0.0005;, score=0.861 total time=   0.2s\n",
      "[CV 5/5] END ................C=50, gamma=0.0005;, score=0.865 total time=   0.2s\n",
      "[CV 1/5] END .................C=50, gamma=0.001;, score=0.885 total time=   0.2s\n",
      "[CV 2/5] END .................C=50, gamma=0.001;, score=0.895 total time=   0.2s\n",
      "[CV 3/5] END .................C=50, gamma=0.001;, score=0.865 total time=   0.2s\n",
      "[CV 4/5] END .................C=50, gamma=0.001;, score=0.861 total time=   0.2s\n",
      "[CV 5/5] END .................C=50, gamma=0.001;, score=0.865 total time=   0.2s\n",
      "[CV 1/5] END .................C=50, gamma=0.005;, score=0.885 total time=   0.2s\n",
      "[CV 2/5] END .................C=50, gamma=0.005;, score=0.895 total time=   0.2s\n",
      "[CV 3/5] END .................C=50, gamma=0.005;, score=0.865 total time=   0.2s\n",
      "[CV 4/5] END .................C=50, gamma=0.005;, score=0.861 total time=   0.2s\n",
      "[CV 5/5] END .................C=50, gamma=0.005;, score=0.865 total time=   0.2s\n"
     ]
    },
    {
     "output_type": "execute_result",
     "data": {
      "text/plain": [
       "GridSearchCV(estimator=SVC(gamma='auto', kernel='linear'),\n",
       "             param_grid={'C': [1, 5, 10, 50],\n",
       "                         'gamma': [0.0001, 0.0005, 0.001, 0.005]},\n",
       "             verbose=3)"
      ]
     },
     "metadata": {},
     "execution_count": 13
    }
   ],
   "metadata": {}
  },
  {
   "cell_type": "code",
   "execution_count": 14,
   "source": [
    "print(grid.best_params_)\r\n",
    "print(grid.best_score_)"
   ],
   "outputs": [
    {
     "output_type": "stream",
     "name": "stdout",
     "text": [
      "{'C': 50, 'gamma': 0.0001}\n",
      "0.8741136596831588\n"
     ]
    }
   ],
   "metadata": {}
  },
  {
   "cell_type": "markdown",
   "source": [
    "# Save the Model"
   ],
   "metadata": {}
  },
  {
   "cell_type": "code",
   "execution_count": 15,
   "source": [],
   "outputs": [
    {
     "output_type": "execute_result",
     "data": {
      "text/plain": [
       "['models/SVG.sav']"
      ]
     },
     "metadata": {},
     "execution_count": 15
    }
   ],
   "metadata": {}
  },
  {
   "cell_type": "code",
   "execution_count": null,
   "source": [],
   "outputs": [],
   "metadata": {}
  }
 ],
 "metadata": {
  "kernel_info": {
   "name": "dev"
  },
  "kernelspec": {
   "name": "python3",
   "display_name": "Python 3.6.13 64-bit ('PythonAdv': conda)"
  },
  "language_info": {
   "codemirror_mode": {
    "name": "ipython",
    "version": 3
   },
   "file_extension": ".py",
   "mimetype": "text/x-python",
   "name": "python",
   "nbconvert_exporter": "python",
   "pygments_lexer": "ipython3",
   "version": "3.6.13"
  },
  "nteract": {
   "version": "0.12.3"
  },
  "interpreter": {
   "hash": "19e604361af181d0efed1906379b6d4f58cb276063cefdc694e07c9c982c8c5e"
  }
 },
 "nbformat": 4,
 "nbformat_minor": 4
}