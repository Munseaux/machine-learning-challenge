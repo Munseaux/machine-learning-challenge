{
 "cells": [
  {
   "cell_type": "code",
   "execution_count": 20,
   "source": [
    "# Update sklearn to prevent version mismatches\r\n",
    "!pip install sklearn --upgrade\r\n"
   ],
   "outputs": [
    {
     "output_type": "stream",
     "name": "stdout",
     "text": [
      "Requirement already up-to-date: sklearn in c:\\users\\lmuns\\anaconda3\\envs\\pythondata\\lib\\site-packages (0.0)\n",
      "Requirement already satisfied, skipping upgrade: scikit-learn in c:\\users\\lmuns\\anaconda3\\envs\\pythondata\\lib\\site-packages (from sklearn) (0.24.2)\n",
      "Requirement already satisfied, skipping upgrade: scipy>=0.19.1 in c:\\users\\lmuns\\anaconda3\\envs\\pythondata\\lib\\site-packages (from scikit-learn->sklearn) (1.5.0)\n",
      "Requirement already satisfied, skipping upgrade: joblib>=0.11 in c:\\users\\lmuns\\anaconda3\\envs\\pythondata\\lib\\site-packages (from scikit-learn->sklearn) (1.0.1)\n",
      "Requirement already satisfied, skipping upgrade: threadpoolctl>=2.0.0 in c:\\users\\lmuns\\anaconda3\\envs\\pythondata\\lib\\site-packages (from scikit-learn->sklearn) (2.2.0)\n",
      "Requirement already satisfied, skipping upgrade: numpy>=1.13.3 in c:\\users\\lmuns\\anaconda3\\envs\\pythondata\\lib\\site-packages (from scikit-learn->sklearn) (1.18.5)\n"
     ]
    }
   ],
   "metadata": {}
  },
  {
   "cell_type": "code",
   "execution_count": 21,
   "source": [
    "# install joblib. This will be used to save your model. \r\n",
    "# Restart your kernel after installing \r\n",
    "!pip install joblib"
   ],
   "outputs": [
    {
     "output_type": "stream",
     "name": "stdout",
     "text": [
      "Requirement already satisfied: joblib in c:\\users\\lmuns\\anaconda3\\envs\\pythondata\\lib\\site-packages (1.0.1)\n"
     ]
    }
   ],
   "metadata": {}
  },
  {
   "cell_type": "code",
   "execution_count": 22,
   "source": [
    "import pandas as pd\r\n",
    "from sklearn.preprocessing import LabelEncoder, MinMaxScaler\r\n",
    "from tensorflow.keras.utils import to_categorical\r\n",
    "from sklearn.model_selection import train_test_split\r\n",
    "import tensorflow\r\n",
    "from numpy.random import seed"
   ],
   "outputs": [],
   "metadata": {}
  },
  {
   "cell_type": "markdown",
   "source": [
    "# Read the CSV and Perform Basic Data Cleaning"
   ],
   "metadata": {}
  },
  {
   "cell_type": "code",
   "execution_count": 23,
   "source": [
    "df = pd.read_csv(\"exoplanet_data.csv\")\r\n",
    "# Drop the null columns where all values are null\r\n",
    "df = df.dropna(axis='columns', how='all')\r\n",
    "# Drop the null rows\r\n",
    "df = df.dropna()\r\n"
   ],
   "outputs": [],
   "metadata": {}
  },
  {
   "cell_type": "code",
   "execution_count": 41,
   "source": [
    "target = df[\"koi_disposition\"]\r\n",
    "target_names = [\"CONFIRMED\", \"FALSE POSITIVE\"]"
   ],
   "outputs": [],
   "metadata": {}
  },
  {
   "cell_type": "markdown",
   "source": [
    "# Select your features (columns)"
   ],
   "metadata": {}
  },
  {
   "cell_type": "code",
   "execution_count": 25,
   "source": [
    "\r\n",
    "\r\n",
    "data = df.drop(\"koi_disposition\", axis=1)\r\n",
    "#using the top X's from the random forest. \r\n",
    "feature_names = df[['koi_fpflag_co','koi_fpflag_nt', 'koi_fpflag_ss', 'koi_model_snr', 'koi_prad', 'koi_duration_err2', 'koi_duration_err1', 'koi_fpflag_ec', 'koi_prad_err2', 'koi_steff_err2', 'koi_prad_err1', 'koi_steff_err1', 'koi_time0bk_err1', 'koi_time0bk_err2', 'koi_period', 'koi_depth', 'koi_duration']]\r\n",
    "data.head()\r\n",
    "X = data\r\n",
    "y = target\r\n",
    "\r\n",
    "encoded_y = pd.get_dummies(df, columns=[\"koi_disposition\"])\r\n",
    "encoded_y = encoded_y[\"koi_disposition_CONFIRMED\"]\r\n",
    "encoded_y\r\n",
    "y = encoded_y\r\n",
    "print(X.shape, y.shape)\r\n"
   ],
   "outputs": [
    {
     "output_type": "stream",
     "name": "stdout",
     "text": [
      "(5304, 40) (5304,)\n"
     ]
    }
   ],
   "metadata": {}
  },
  {
   "cell_type": "markdown",
   "source": [
    "# Create a Train Test Split\n",
    "\n",
    "Use `koi_disposition` for the y values"
   ],
   "metadata": {}
  },
  {
   "cell_type": "code",
   "execution_count": 26,
   "source": [
    "X_train, X_test, y_train, y_test = train_test_split(\r\n",
    "    X, y, random_state=1)"
   ],
   "outputs": [],
   "metadata": {}
  },
  {
   "cell_type": "code",
   "execution_count": 27,
   "source": [
    "X_train.head()\r\n",
    "\r\n"
   ],
   "outputs": [
    {
     "output_type": "execute_result",
     "data": {
      "text/plain": [
       "      koi_fpflag_nt  koi_fpflag_ss  koi_fpflag_co  koi_fpflag_ec  koi_period  \\\n",
       "5854              0              1              0              0    4.176929   \n",
       "3218              1              0              0              0   68.538296   \n",
       "2701              0              0              0              0   16.258028   \n",
       "1577              0              0              1              0    1.303577   \n",
       "627               0              0              0              0   15.573637   \n",
       "\n",
       "      koi_period_err1  koi_period_err2  koi_time0bk  koi_time0bk_err1  \\\n",
       "5854         0.000003        -0.000003   133.197382          0.000672   \n",
       "3218         0.001111        -0.001111   186.217160          0.007210   \n",
       "2701         0.000288        -0.000288   139.638100          0.012200   \n",
       "1577         0.000002        -0.000002   133.075800          0.001660   \n",
       "627          0.000101        -0.000101   132.442820          0.004360   \n",
       "\n",
       "      koi_time0bk_err2  ...  koi_steff_err2  koi_slogg  koi_slogg_err1  \\\n",
       "5854         -0.000672  ...            -162      4.628           0.035   \n",
       "3218         -0.007210  ...             -56      2.613           0.028   \n",
       "2701         -0.012200  ...            -128      4.235           0.143   \n",
       "1577         -0.001660  ...            -198      4.494           0.052   \n",
       "627          -0.004360  ...            -214      4.376           0.105   \n",
       "\n",
       "      koi_slogg_err2  koi_srad  koi_srad_err1  koi_srad_err2         ra  \\\n",
       "5854          -0.105     0.708          0.119         -0.051  291.05762   \n",
       "3218          -0.039     8.123          1.474         -0.295  288.03705   \n",
       "2701          -0.117     1.356          0.212         -0.259  287.62082   \n",
       "1577          -0.208     0.955          0.285         -0.102  293.62442   \n",
       "627           -0.195     1.083          0.350         -0.150  296.35867   \n",
       "\n",
       "            dec  koi_kepmag  \n",
       "5854  38.645340      15.220  \n",
       "3218  39.208988      13.983  \n",
       "2701  43.141647      13.178  \n",
       "1577  38.732479      14.834  \n",
       "627   39.115189      14.820  \n",
       "\n",
       "[5 rows x 40 columns]"
      ],
      "text/html": [
       "<div>\n",
       "<style scoped>\n",
       "    .dataframe tbody tr th:only-of-type {\n",
       "        vertical-align: middle;\n",
       "    }\n",
       "\n",
       "    .dataframe tbody tr th {\n",
       "        vertical-align: top;\n",
       "    }\n",
       "\n",
       "    .dataframe thead th {\n",
       "        text-align: right;\n",
       "    }\n",
       "</style>\n",
       "<table border=\"1\" class=\"dataframe\">\n",
       "  <thead>\n",
       "    <tr style=\"text-align: right;\">\n",
       "      <th></th>\n",
       "      <th>koi_fpflag_nt</th>\n",
       "      <th>koi_fpflag_ss</th>\n",
       "      <th>koi_fpflag_co</th>\n",
       "      <th>koi_fpflag_ec</th>\n",
       "      <th>koi_period</th>\n",
       "      <th>koi_period_err1</th>\n",
       "      <th>koi_period_err2</th>\n",
       "      <th>koi_time0bk</th>\n",
       "      <th>koi_time0bk_err1</th>\n",
       "      <th>koi_time0bk_err2</th>\n",
       "      <th>...</th>\n",
       "      <th>koi_steff_err2</th>\n",
       "      <th>koi_slogg</th>\n",
       "      <th>koi_slogg_err1</th>\n",
       "      <th>koi_slogg_err2</th>\n",
       "      <th>koi_srad</th>\n",
       "      <th>koi_srad_err1</th>\n",
       "      <th>koi_srad_err2</th>\n",
       "      <th>ra</th>\n",
       "      <th>dec</th>\n",
       "      <th>koi_kepmag</th>\n",
       "    </tr>\n",
       "  </thead>\n",
       "  <tbody>\n",
       "    <tr>\n",
       "      <th>5854</th>\n",
       "      <td>0</td>\n",
       "      <td>1</td>\n",
       "      <td>0</td>\n",
       "      <td>0</td>\n",
       "      <td>4.176929</td>\n",
       "      <td>0.000003</td>\n",
       "      <td>-0.000003</td>\n",
       "      <td>133.197382</td>\n",
       "      <td>0.000672</td>\n",
       "      <td>-0.000672</td>\n",
       "      <td>...</td>\n",
       "      <td>-162</td>\n",
       "      <td>4.628</td>\n",
       "      <td>0.035</td>\n",
       "      <td>-0.105</td>\n",
       "      <td>0.708</td>\n",
       "      <td>0.119</td>\n",
       "      <td>-0.051</td>\n",
       "      <td>291.05762</td>\n",
       "      <td>38.645340</td>\n",
       "      <td>15.220</td>\n",
       "    </tr>\n",
       "    <tr>\n",
       "      <th>3218</th>\n",
       "      <td>1</td>\n",
       "      <td>0</td>\n",
       "      <td>0</td>\n",
       "      <td>0</td>\n",
       "      <td>68.538296</td>\n",
       "      <td>0.001111</td>\n",
       "      <td>-0.001111</td>\n",
       "      <td>186.217160</td>\n",
       "      <td>0.007210</td>\n",
       "      <td>-0.007210</td>\n",
       "      <td>...</td>\n",
       "      <td>-56</td>\n",
       "      <td>2.613</td>\n",
       "      <td>0.028</td>\n",
       "      <td>-0.039</td>\n",
       "      <td>8.123</td>\n",
       "      <td>1.474</td>\n",
       "      <td>-0.295</td>\n",
       "      <td>288.03705</td>\n",
       "      <td>39.208988</td>\n",
       "      <td>13.983</td>\n",
       "    </tr>\n",
       "    <tr>\n",
       "      <th>2701</th>\n",
       "      <td>0</td>\n",
       "      <td>0</td>\n",
       "      <td>0</td>\n",
       "      <td>0</td>\n",
       "      <td>16.258028</td>\n",
       "      <td>0.000288</td>\n",
       "      <td>-0.000288</td>\n",
       "      <td>139.638100</td>\n",
       "      <td>0.012200</td>\n",
       "      <td>-0.012200</td>\n",
       "      <td>...</td>\n",
       "      <td>-128</td>\n",
       "      <td>4.235</td>\n",
       "      <td>0.143</td>\n",
       "      <td>-0.117</td>\n",
       "      <td>1.356</td>\n",
       "      <td>0.212</td>\n",
       "      <td>-0.259</td>\n",
       "      <td>287.62082</td>\n",
       "      <td>43.141647</td>\n",
       "      <td>13.178</td>\n",
       "    </tr>\n",
       "    <tr>\n",
       "      <th>1577</th>\n",
       "      <td>0</td>\n",
       "      <td>0</td>\n",
       "      <td>1</td>\n",
       "      <td>0</td>\n",
       "      <td>1.303577</td>\n",
       "      <td>0.000002</td>\n",
       "      <td>-0.000002</td>\n",
       "      <td>133.075800</td>\n",
       "      <td>0.001660</td>\n",
       "      <td>-0.001660</td>\n",
       "      <td>...</td>\n",
       "      <td>-198</td>\n",
       "      <td>4.494</td>\n",
       "      <td>0.052</td>\n",
       "      <td>-0.208</td>\n",
       "      <td>0.955</td>\n",
       "      <td>0.285</td>\n",
       "      <td>-0.102</td>\n",
       "      <td>293.62442</td>\n",
       "      <td>38.732479</td>\n",
       "      <td>14.834</td>\n",
       "    </tr>\n",
       "    <tr>\n",
       "      <th>627</th>\n",
       "      <td>0</td>\n",
       "      <td>0</td>\n",
       "      <td>0</td>\n",
       "      <td>0</td>\n",
       "      <td>15.573637</td>\n",
       "      <td>0.000101</td>\n",
       "      <td>-0.000101</td>\n",
       "      <td>132.442820</td>\n",
       "      <td>0.004360</td>\n",
       "      <td>-0.004360</td>\n",
       "      <td>...</td>\n",
       "      <td>-214</td>\n",
       "      <td>4.376</td>\n",
       "      <td>0.105</td>\n",
       "      <td>-0.195</td>\n",
       "      <td>1.083</td>\n",
       "      <td>0.350</td>\n",
       "      <td>-0.150</td>\n",
       "      <td>296.35867</td>\n",
       "      <td>39.115189</td>\n",
       "      <td>14.820</td>\n",
       "    </tr>\n",
       "  </tbody>\n",
       "</table>\n",
       "<p>5 rows × 40 columns</p>\n",
       "</div>"
      ]
     },
     "metadata": {},
     "execution_count": 27
    }
   ],
   "metadata": {}
  },
  {
   "cell_type": "markdown",
   "source": [
    "# Pre-processing\n",
    "\n",
    "Scale the data using the MinMaxScaler and perform some feature selection"
   ],
   "metadata": {}
  },
  {
   "cell_type": "code",
   "execution_count": 28,
   "source": [
    "# Scale your data\r\n",
    "from sklearn.preprocessing import MinMaxScaler\r\n",
    "\r\n",
    "X_scaler = MinMaxScaler().fit(X_train)\r\n",
    "X_train_scaled = X_scaler.transform(X_train)\r\n",
    "X_test_scaled = X_scaler.transform(X_test)\r\n",
    "X_train_scaled"
   ],
   "outputs": [
    {
     "output_type": "execute_result",
     "data": {
      "text/plain": [
       "array([[0.        , 1.        , 0.        , ..., 0.5125824 , 0.13219742,\n",
       "        0.73271194],\n",
       "       [1.        , 0.        , 0.        , ..., 0.37436113, 0.16822948,\n",
       "        0.6229028 ],\n",
       "       [0.        , 0.        , 0.        , ..., 0.35531445, 0.41963068,\n",
       "        0.55144252],\n",
       "       ...,\n",
       "       [0.        , 1.        , 0.        , ..., 0.78773998, 0.82241916,\n",
       "        0.53865957],\n",
       "       [0.        , 0.        , 1.        , ..., 0.83648399, 0.30395021,\n",
       "        0.58490901],\n",
       "       [1.        , 0.        , 0.        , ..., 0.33148768, 0.5388321 ,\n",
       "        0.72667554]])"
      ]
     },
     "metadata": {},
     "execution_count": 28
    }
   ],
   "metadata": {}
  },
  {
   "cell_type": "code",
   "execution_count": 29,
   "source": [
    "from tensorflow.keras.utils import to_categorical\r\n",
    "y_train_categorical = to_categorical(y_train)\r\n",
    "y_test_categorical = to_categorical(y_test)\r\n",
    "y_train_categorical\r\n"
   ],
   "outputs": [
    {
     "output_type": "execute_result",
     "data": {
      "text/plain": [
       "array([[1., 0.],\n",
       "       [1., 0.],\n",
       "       [0., 1.],\n",
       "       ...,\n",
       "       [1., 0.],\n",
       "       [1., 0.],\n",
       "       [1., 0.]], dtype=float32)"
      ]
     },
     "metadata": {},
     "execution_count": 29
    }
   ],
   "metadata": {}
  },
  {
   "cell_type": "markdown",
   "source": [
    "# Train the Model\n",
    "\n"
   ],
   "metadata": {}
  },
  {
   "cell_type": "code",
   "execution_count": 30,
   "source": [
    "from tensorflow.keras.models import Sequential\r\n",
    "from tensorflow.keras.layers import Dense\r\n",
    "\r\n",
    "model = Sequential()\r\n",
    "\r\n",
    "model.add(Dense(units=100, activation='relu', input_dim=40))\r\n",
    "model.add(Dense(units=100, activation='relu'))\r\n",
    "model.add(Dense(units=2, activation='softmax'))\r\n",
    "\r\n",
    "model.summary()\r\n",
    "\r\n"
   ],
   "outputs": [
    {
     "output_type": "stream",
     "name": "stdout",
     "text": [
      "Model: \"sequential_1\"\n",
      "_________________________________________________________________\n",
      "Layer (type)                 Output Shape              Param #   \n",
      "=================================================================\n",
      "dense_3 (Dense)              (None, 100)               4100      \n",
      "_________________________________________________________________\n",
      "dense_4 (Dense)              (None, 100)               10100     \n",
      "_________________________________________________________________\n",
      "dense_5 (Dense)              (None, 2)                 202       \n",
      "=================================================================\n",
      "Total params: 14,402\n",
      "Trainable params: 14,402\n",
      "Non-trainable params: 0\n",
      "_________________________________________________________________\n"
     ]
    }
   ],
   "metadata": {}
  },
  {
   "cell_type": "code",
   "execution_count": 31,
   "source": [
    "model.compile(optimizer='adam',\r\n",
    "              loss='categorical_crossentropy',\r\n",
    "              metrics=['accuracy'])\r\n"
   ],
   "outputs": [],
   "metadata": {}
  },
  {
   "cell_type": "code",
   "execution_count": 32,
   "source": [
    "model.fit(\r\n",
    "    X_train_scaled,\r\n",
    "    y_train_categorical,\r\n",
    "    epochs=100,\r\n",
    "    shuffle=True,\r\n",
    "    verbose=0\r\n",
    ")"
   ],
   "outputs": [
    {
     "output_type": "execute_result",
     "data": {
      "text/plain": [
       "<tensorflow.python.keras.callbacks.History at 0x1b32e1b07f0>"
      ]
     },
     "metadata": {},
     "execution_count": 32
    }
   ],
   "metadata": {}
  },
  {
   "cell_type": "code",
   "execution_count": 33,
   "source": [
    "model_loss, model_accuracy = model.evaluate(\r\n",
    "    X_test_scaled, y_test_categorical, verbose=2)\r\n",
    "print(f\"Loss: {model_loss}, Accuracy: {model_accuracy}\")"
   ],
   "outputs": [
    {
     "output_type": "stream",
     "name": "stdout",
     "text": [
      "1326/1326 - 0s - loss: 0.0266 - accuracy: 0.9925\n",
      "Loss: 0.026605581170787998, Accuracy: 0.9924585223197937\n"
     ]
    }
   ],
   "metadata": {}
  },
  {
   "cell_type": "markdown",
   "source": [
    "# Save the Model"
   ],
   "metadata": {}
  },
  {
   "cell_type": "code",
   "execution_count": 40,
   "source": [
    "model.save(\"models/deep_leaning.h5\")"
   ],
   "outputs": [],
   "metadata": {}
  },
  {
   "cell_type": "code",
   "execution_count": null,
   "source": [],
   "outputs": [],
   "metadata": {}
  }
 ],
 "metadata": {
  "kernel_info": {
   "name": "dev"
  },
  "kernelspec": {
   "name": "python3",
   "display_name": "Python 3.6.13 64-bit ('PythonAdv': conda)"
  },
  "language_info": {
   "codemirror_mode": {
    "name": "ipython",
    "version": 3
   },
   "file_extension": ".py",
   "mimetype": "text/x-python",
   "name": "python",
   "nbconvert_exporter": "python",
   "pygments_lexer": "ipython3",
   "version": "3.6.13"
  },
  "nteract": {
   "version": "0.12.3"
  },
  "interpreter": {
   "hash": "19e604361af181d0efed1906379b6d4f58cb276063cefdc694e07c9c982c8c5e"
  }
 },
 "nbformat": 4,
 "nbformat_minor": 4
}